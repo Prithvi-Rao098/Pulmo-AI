{
 "cells": [
  {
   "cell_type": "code",
   "execution_count": null,
   "id": "db38bdea-f972-4126-96af-c35ee656b3a4",
   "metadata": {},
   "outputs": [],
   "source": [
    "# diagnosis of lung damage based on medical imagery .ipynb"
   ]
  },
  {
   "cell_type": "code",
   "execution_count": 1,
   "id": "a74db76a-46f6-40da-b2f9-8dfa4076a2dc",
   "metadata": {},
   "outputs": [
    {
     "name": "stdout",
     "output_type": "stream",
     "text": [
      "hello world\n"
     ]
    }
   ],
   "source": [
    "print(\"hello world\")"
   ]
  },
  {
   "cell_type": "code",
   "execution_count": null,
   "id": "6c326da0-a776-409c-8bb9-f438c28c384a",
   "metadata": {},
   "outputs": [],
   "source": []
  }
 ],
 "metadata": {
  "kernelspec": {
   "display_name": "Python 3 (ipykernel)",
   "language": "python",
   "name": "python3"
  },
  "language_info": {
   "codemirror_mode": {
    "name": "ipython",
    "version": 3
   },
   "file_extension": ".py",
   "mimetype": "text/x-python",
   "name": "python",
   "nbconvert_exporter": "python",
   "pygments_lexer": "ipython3",
   "version": "3.10.12"
  }
 },
 "nbformat": 4,
 "nbformat_minor": 5
}
