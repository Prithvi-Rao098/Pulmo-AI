{
 "cells": [
  {
   "cell_type": "code",
   "execution_count": 2,
   "id": "174dcfa6-9a65-4ea8-83af-7f227233fbd6",
   "metadata": {},
   "outputs": [
    {
     "name": "stdout",
     "output_type": "stream",
     "text": [
      "Ollama server started\n"
     ]
    },
    {
     "name": "stderr",
     "output_type": "stream",
     "text": [
      "Error: listen tcp 127.0.0.1:11434: bind: address already in use\n"
     ]
    }
   ],
   "source": [
    "import subprocess\n",
    "\n",
    "# Start the Ollama server\n",
    "server_process = subprocess.Popen([\"ollama\", \"serve\"])\n",
    "\n",
    "print(\"Ollama server started\")"
   ]
  },
  {
   "cell_type": "code",
   "execution_count": 5,
   "id": "e00c0b49-fea3-495f-8498-a4087cb744c0",
   "metadata": {},
   "outputs": [
    {
     "name": "stderr",
     "output_type": "stream",
     "text": [
      "time=2024-11-15T02:28:09.925Z level=INFO source=download.go:175 msg=\"downloading abf30c3bb477 in 16 307 MB part(s)\"\n",
      "time=2024-11-15T02:36:57.954Z level=INFO source=download.go:175 msg=\"downloading 555a4648ca93 in 1 142 B part(s)\"\n",
      "time=2024-11-15T02:36:59.900Z level=INFO source=download.go:175 msg=\"downloading 1304084d3201 in 1 230 B part(s)\"\n",
      "time=2024-11-15T02:37:01.889Z level=INFO source=download.go:175 msg=\"downloading d827af7436fe in 1 12 KB part(s)\"\n",
      "time=2024-11-15T02:37:03.851Z level=INFO source=download.go:175 msg=\"downloading ade69533d749 in 1 36 B part(s)\"\n",
      "time=2024-11-15T02:37:05.731Z level=INFO source=download.go:175 msg=\"downloading 652439d71178 in 1 561 B part(s)\"\n"
     ]
    },
    {
     "name": "stdout",
     "output_type": "stream",
     "text": [
      "[GIN] 2024/11/15 - 02:37:09 | 200 |          9m2s |       127.0.0.1 | POST     \"/api/pull\"\n"
     ]
    },
    {
     "data": {
      "text/plain": [
       "{'status': 'success'}"
      ]
     },
     "execution_count": 5,
     "metadata": {},
     "output_type": "execute_result"
    }
   ],
   "source": [
    "import ollama\n",
    "\n",
    "response = ollama.pull(model=\"monotykamary/medichat-llama3\")\n",
    "\n",
    "response"
   ]
  },
  {
   "cell_type": "code",
   "execution_count": 8,
   "id": "fabe3e8f-b0a3-42a8-b43b-18fde2207f53",
   "metadata": {},
   "outputs": [
    {
     "data": {
      "text/plain": [
       "{'status': 'success'}"
      ]
     },
     "execution_count": 8,
     "metadata": {},
     "output_type": "execute_result"
    },
    {
     "name": "stdout",
     "output_type": "stream",
     "text": [
      "[GIN] 2024/11/15 - 03:37:33 | 200 |   30.388501ms |       127.0.0.1 | POST     \"/api/create\"\n"
     ]
    }
   ],
   "source": [
    "modelfile='''\n",
    "FROM monotykamary/medichat-llama3\n",
    "SYSTEM Act as if you are a doctor that is providing advice to a patient diagnosed with lung cancer.\n",
    "'''\n",
    "\n",
    "response = ollama.create(model='healthbot', modelfile=modelfile)\n",
    "\n",
    "response"
   ]
  },
  {
   "cell_type": "code",
   "execution_count": 9,
   "id": "a4c162b9-c602-4a2b-b021-c3d2dd3f29d5",
   "metadata": {},
   "outputs": [
    {
     "data": {
      "text/markdown": [
       "**Health Chatbot Response:**\n",
       "\n",
       " Lung Cancer Symptoms \n",
       "Lung cancer symptoms vary, depending on the stage at which they develop. Early-stage cancers may not cause symptoms. However, when the disease progresses, you may experience: \n",
       "\n",
       "* Coughing (often with blood)\n",
       "* Chest pain or tightness\n",
       "* Shortness of breath and coughing that worsens over time\n",
       "* Recurrent infections in the lungs or bronchial tubes that are not treated successfully by medication\n",
       "* Unusual fatigue, weakness, and weight loss despite appetite\n",
       "\n",
       "These signs and symptoms can also be attributed to other conditions. If you have any concerns, consult a doctor.\n",
       "\n",
       "Please note: I am an AI Medical Assistant trained to assist you with your medical questions. I do not provide diagnosis or treatment for specific health problems. This response is provided as a general guide only. For personalized advice about your health, please contact your doctor.\n"
      ],
      "text/plain": [
       "<IPython.core.display.Markdown object>"
      ]
     },
     "metadata": {},
     "output_type": "display_data"
    }
   ],
   "source": [
    "from IPython.display import display, Markdown, clear_output\n",
    "\n",
    "prompt = input(\"Ask our Health Chatbot any pertaining medical inquiries regarding diagnosis or etc.\")\n",
    "\n",
    "response_stream = ollama.chat(\n",
    "    model=\"healthbot\",\n",
    "    messages=[{'role': 'user', 'content': prompt}],\n",
    "    stream=True\n",
    ")\n",
    "\n",
    "streamed_response = \"\"\n",
    "\n",
    "for token in response_stream:\n",
    "    streamed_response += token['message']['content']\n",
    "    clear_output(wait=True)\n",
    "    display(Markdown(f\"**Health Chatbot Response:**\\n\\n{streamed_response}\"))"
   ]
  }
 ],
 "metadata": {
  "kernelspec": {
   "display_name": "Python 3 (ipykernel)",
   "language": "python",
   "name": "python3"
  },
  "language_info": {
   "codemirror_mode": {
    "name": "ipython",
    "version": 3
   },
   "file_extension": ".py",
   "mimetype": "text/x-python",
   "name": "python",
   "nbconvert_exporter": "python",
   "pygments_lexer": "ipython3",
   "version": "3.10.12"
  }
 },
 "nbformat": 4,
 "nbformat_minor": 5
}
