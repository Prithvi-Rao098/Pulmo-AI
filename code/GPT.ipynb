{
 "cells": [
  {
   "cell_type": "code",
   "execution_count": 1,
   "id": "33b07263-90c1-48aa-bf07-19ebab64800c",
   "metadata": {},
   "outputs": [
    {
     "data": {
      "text/plain": [
       "'\\nprompt = \"What are symptoms of lung cancer?\"\\nresponse = ollama.chat(\\n    model=\\'llama2\\',\\n    messages=[{\\'role\\': \\'user\\', \\'content\\': prompt}]\\n)\\n\\nprint(response[\\'message\\'][\\'content\\'])\\n'"
      ]
     },
     "execution_count": 1,
     "metadata": {},
     "output_type": "execute_result"
    }
   ],
   "source": [
    "#!ollama start\n",
    "#!ollama run llama2\n",
    "#monotykamary/medichat-llama3\n",
    "'''\n",
    "prompt = \"What are symptoms of lung cancer?\"\n",
    "response = ollama.chat(\n",
    "    model='llama2',\n",
    "    messages=[{'role': 'user', 'content': prompt}]\n",
    ")\n",
    "\n",
    "print(response['message']['content'])\n",
    "'''"
   ]
  },
  {
   "cell_type": "code",
   "execution_count": 6,
   "id": "174dcfa6-9a65-4ea8-83af-7f227233fbd6",
   "metadata": {},
   "outputs": [
    {
     "name": "stdout",
     "output_type": "stream",
     "text": [
      "Ollama server started\n"
     ]
    },
    {
     "name": "stderr",
     "output_type": "stream",
     "text": [
      "Error: listen tcp 127.0.0.1:11434: bind: address already in use\n"
     ]
    }
   ],
   "source": [
    "import subprocess\n",
    "\n",
    "# Start the Ollama server\n",
    "server_process = subprocess.Popen([\"ollama\", \"serve\"])\n",
    "\n",
    "print(\"Ollama server started\")"
   ]
  },
  {
   "cell_type": "code",
   "execution_count": 7,
   "id": "34d9cdd9-9cc9-46ca-9b31-d42a0a87b80c",
   "metadata": {},
   "outputs": [
    {
     "name": "stdout",
     "output_type": "stream",
     "text": [
      "Fri Nov 15 00:47:34 2024       \n",
      "+-----------------------------------------------------------------------------------------+\n",
      "| NVIDIA-SMI 555.58.02              Driver Version: 556.12         CUDA Version: 12.5     |\n",
      "|-----------------------------------------+------------------------+----------------------+\n",
      "| GPU  Name                 Persistence-M | Bus-Id          Disp.A | Volatile Uncorr. ECC |\n",
      "| Fan  Temp   Perf          Pwr:Usage/Cap |           Memory-Usage | GPU-Util  Compute M. |\n",
      "|                                         |                        |               MIG M. |\n",
      "|=========================================+========================+======================|\n",
      "|   0  NVIDIA GeForce RTX 4060 ...    On  |   00000000:01:00.0 Off |                  N/A |\n",
      "| N/A   52C    P8              3W /  135W |       0MiB /   8188MiB |      0%      Default |\n",
      "|                                         |                        |                  N/A |\n",
      "+-----------------------------------------+------------------------+----------------------+\n",
      "                                                                                         \n",
      "+-----------------------------------------------------------------------------------------+\n",
      "| Processes:                                                                              |\n",
      "|  GPU   GI   CI        PID   Type   Process name                              GPU Memory |\n",
      "|        ID   ID                                                               Usage      |\n",
      "|=========================================================================================|\n",
      "|  No running processes found                                                             |\n",
      "+-----------------------------------------------------------------------------------------+\n"
     ]
    }
   ],
   "source": [
    "!nvidia-smi"
   ]
  },
  {
   "cell_type": "code",
   "execution_count": 8,
   "id": "9ce4366d-5b13-4bd2-adc7-2d09ab427dfb",
   "metadata": {},
   "outputs": [
    {
     "name": "stderr",
     "output_type": "stream",
     "text": [
      "time=2024-11-15T00:47:39.809Z level=INFO source=download.go:175 msg=\"downloading 8934d96d3f08 in 16 239 MB part(s)\"\n",
      "time=2024-11-15T00:54:27.886Z level=INFO source=download.go:175 msg=\"downloading 8c17c2ebb0ea in 1 7.0 KB part(s)\"\n",
      "time=2024-11-15T00:54:29.761Z level=INFO source=download.go:175 msg=\"downloading 7c23fb36d801 in 1 4.8 KB part(s)\"\n",
      "time=2024-11-15T00:54:31.704Z level=INFO source=download.go:175 msg=\"downloading 2e0493f67d0c in 1 59 B part(s)\"\n",
      "time=2024-11-15T00:54:33.564Z level=INFO source=download.go:175 msg=\"downloading fa304d675061 in 1 91 B part(s)\"\n",
      "time=2024-11-15T00:54:35.718Z level=INFO source=download.go:175 msg=\"downloading 42ba7f8a01dd in 1 557 B part(s)\"\n"
     ]
    },
    {
     "name": "stdout",
     "output_type": "stream",
     "text": [
      "[GIN] 2024/11/15 - 00:54:38 | 200 |          7m0s |       127.0.0.1 | POST     \"/api/pull\"\n"
     ]
    },
    {
     "data": {
      "text/plain": [
       "{'status': 'success'}"
      ]
     },
     "execution_count": 8,
     "metadata": {},
     "output_type": "execute_result"
    }
   ],
   "source": [
    "import ollama\n",
    "\n",
    "response = ollama.pull(model=\"llama2\")\n",
    "\n",
    "response"
   ]
  },
  {
   "cell_type": "code",
   "execution_count": 9,
   "id": "a9c087d4-0ada-4fef-a462-76436f3c793a",
   "metadata": {},
   "outputs": [
    {
     "data": {
      "text/plain": [
       "<generator object Client._stream at 0x7f15a69dbbc0>"
      ]
     },
     "execution_count": 9,
     "metadata": {},
     "output_type": "execute_result"
    }
   ],
   "source": [
    "response = ollama.pull(model=\"llama2\", stream=True)\n",
    "\n",
    "response"
   ]
  },
  {
   "cell_type": "code",
   "execution_count": 10,
   "id": "f42c8ff5-bbaf-4444-a260-2dbdfeef7524",
   "metadata": {},
   "outputs": [
    {
     "name": "stdout",
     "output_type": "stream",
     "text": [
      "{'status': 'pulling manifest'}\n",
      "{'status': 'pulling 8934d96d3f08', 'digest': 'sha256:8934d96d3f08982e95922b2b7a2c626a1fe873d7c3b06e8e56d7bc0a1fef9246', 'total': 3826781184, 'completed': 3826781184}\n",
      "{'status': 'pulling 8c17c2ebb0ea', 'digest': 'sha256:8c17c2ebb0ea011be9981cc3922db8ca8fa61e828c5d3f44cb6ae342bf80460b', 'total': 7020, 'completed': 7020}\n",
      "{'status': 'pulling 7c23fb36d801', 'digest': 'sha256:7c23fb36d80141c4ab8cdbb61ee4790102ebd2bf7aeff414453177d4f2110e5d', 'total': 4766, 'completed': 4766}\n",
      "{'status': 'pulling 2e0493f67d0c', 'digest': 'sha256:2e0493f67d0c8c9c68a8aeacdf6a38a2151cb3c4c1d42accf296e19810527988', 'total': 59, 'completed': 59}\n",
      "{'status': 'pulling fa304d675061', 'digest': 'sha256:fa304d6750612c207b8705aca35391761f29492534e90b30575e4980d6ca82f6', 'total': 91, 'completed': 91}\n",
      "{'status': 'pulling 42ba7f8a01dd', 'digest': 'sha256:42ba7f8a01ddb4fa59908edd37d981d3baa8d8efea0e222b027f29f7bcae21f9', 'total': 557, 'completed': 557}\n",
      "{'status': 'verifying sha256 digest'}\n",
      "{'status': 'writing manifest'}\n",
      "{'status': 'success'}\n",
      "[GIN] 2024/11/15 - 00:54:38 | 200 |  394.201761ms |       127.0.0.1 | POST     \"/api/pull\"\n"
     ]
    }
   ],
   "source": [
    "for val in response:\n",
    "    print(val)"
   ]
  },
  {
   "cell_type": "code",
   "execution_count": 12,
   "id": "cce35a14-c62e-46bf-b7d5-6293c67b6b8b",
   "metadata": {},
   "outputs": [
    {
     "name": "stdout",
     "output_type": "stream",
     "text": [
      "[GIN] 2024/11/15 - 00:55:26 | 200 |  4.199932273s |       127.0.0.1 | POST     \"/api/generate\"\n"
     ]
    },
    {
     "data": {
      "text/plain": [
       "dict"
      ]
     },
     "execution_count": 12,
     "metadata": {},
     "output_type": "execute_result"
    }
   ],
   "source": [
    "response = ollama.generate(model=\"llama2\", prompt=\"Write a short paragraph introducing bill gates.\")\n",
    "\n",
    "type(response)"
   ]
  },
  {
   "cell_type": "code",
   "execution_count": 13,
   "id": "4cc175e2-bf1c-4707-b42d-0a5c20d8ad84",
   "metadata": {},
   "outputs": [
    {
     "name": "stdout",
     "output_type": "stream",
     "text": [
      "\n",
      "Bill Gates is a renowned American entrepreneur, software developer, and philanthropist. He co-founded Microsoft Corporation in 1975, with his childhood friend Paul Allen, and served as the company's CEO until 2000. Under his leadership, Microsoft became one of the largest and most successful technology companies in the world, with a portfolio of products including Windows operating systems, Office productivity software, and Azure cloud computing services. In addition to his work at Microsoft, Gates has also been a prominent philanthropist through the Bill and Melinda Gates Foundation, which he founded with his wife in 2000. The foundation has focused on issues such as global health and education, and has donated billions of dollars to charitable causes around the world. Today, Gates is widely recognized as one of the most successful entrepreneurs and philanthropists of all time, and is widely respected for his innovative spirit, business acumen, and commitment to improving the lives of people around the world.\n"
     ]
    }
   ],
   "source": [
    "print(response[\"response\"])"
   ]
  },
  {
   "cell_type": "code",
   "execution_count": null,
   "id": "e00c0b49-fea3-495f-8498-a4087cb744c0",
   "metadata": {},
   "outputs": [],
   "source": []
  }
 ],
 "metadata": {
  "kernelspec": {
   "display_name": "Python 3 (ipykernel)",
   "language": "python",
   "name": "python3"
  },
  "language_info": {
   "codemirror_mode": {
    "name": "ipython",
    "version": 3
   },
   "file_extension": ".py",
   "mimetype": "text/x-python",
   "name": "python",
   "nbconvert_exporter": "python",
   "pygments_lexer": "ipython3",
   "version": "3.10.12"
  }
 },
 "nbformat": 4,
 "nbformat_minor": 5
}
